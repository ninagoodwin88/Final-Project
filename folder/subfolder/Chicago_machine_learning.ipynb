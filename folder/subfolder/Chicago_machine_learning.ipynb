{
 "cells": [
  {
   "cell_type": "code",
   "execution_count": 73,
   "metadata": {},
   "outputs": [],
   "source": [
    "%matplotlib inline\n",
    "import matplotlib.pyplot as plt\n",
    "import pandas as pd\n",
    "import os\n",
    "import csv"
   ]
  },
  {
   "cell_type": "code",
   "execution_count": 57,
   "metadata": {},
   "outputs": [
    {
     "data": {
      "text/html": [
       "<div>\n",
       "<style scoped>\n",
       "    .dataframe tbody tr th:only-of-type {\n",
       "        vertical-align: middle;\n",
       "    }\n",
       "\n",
       "    .dataframe tbody tr th {\n",
       "        vertical-align: top;\n",
       "    }\n",
       "\n",
       "    .dataframe thead th {\n",
       "        text-align: right;\n",
       "    }\n",
       "</style>\n",
       "<table border=\"1\" class=\"dataframe\">\n",
       "  <thead>\n",
       "    <tr style=\"text-align: right;\">\n",
       "      <th></th>\n",
       "      <th>case_no</th>\n",
       "      <th>date_of_occurrence</th>\n",
       "      <th>primary_description</th>\n",
       "      <th>arrests</th>\n",
       "      <th>domestic</th>\n",
       "      <th>ward</th>\n",
       "    </tr>\n",
       "  </thead>\n",
       "  <tbody>\n",
       "    <tr>\n",
       "      <th>0</th>\n",
       "      <td>JE123460</td>\n",
       "      <td>1/26/2021</td>\n",
       "      <td>0</td>\n",
       "      <td>N</td>\n",
       "      <td>1</td>\n",
       "      <td>5</td>\n",
       "    </tr>\n",
       "    <tr>\n",
       "      <th>1</th>\n",
       "      <td>JE123503</td>\n",
       "      <td>1/26/2021</td>\n",
       "      <td>1</td>\n",
       "      <td>N</td>\n",
       "      <td>1</td>\n",
       "      <td>20</td>\n",
       "    </tr>\n",
       "    <tr>\n",
       "      <th>2</th>\n",
       "      <td>JE123996</td>\n",
       "      <td>1/26/2021</td>\n",
       "      <td>2</td>\n",
       "      <td>N</td>\n",
       "      <td>0</td>\n",
       "      <td>48</td>\n",
       "    </tr>\n",
       "    <tr>\n",
       "      <th>3</th>\n",
       "      <td>JE123507</td>\n",
       "      <td>1/26/2021</td>\n",
       "      <td>1</td>\n",
       "      <td>N</td>\n",
       "      <td>1</td>\n",
       "      <td>21</td>\n",
       "    </tr>\n",
       "    <tr>\n",
       "      <th>4</th>\n",
       "      <td>JE123544</td>\n",
       "      <td>1/26/2021</td>\n",
       "      <td>3</td>\n",
       "      <td>N</td>\n",
       "      <td>0</td>\n",
       "      <td>27</td>\n",
       "    </tr>\n",
       "  </tbody>\n",
       "</table>\n",
       "</div>"
      ],
      "text/plain": [
       "    case_no date_of_occurrence  primary_description arrests  domestic  ward\n",
       "0  JE123460          1/26/2021                    0       N         1     5\n",
       "1  JE123503          1/26/2021                    1       N         1    20\n",
       "2  JE123996          1/26/2021                    2       N         0    48\n",
       "3  JE123507          1/26/2021                    1       N         1    21\n",
       "4  JE123544          1/26/2021                    3       N         0    27"
      ]
     },
     "execution_count": 57,
     "metadata": {},
     "output_type": "execute_result"
    }
   ],
   "source": [
    "# Read the CSV file into a Pandas DataFrame\n",
    "\n",
    "notes = pd.read_csv('crime_data_csv.csv')\n",
    "notes.head()"
   ]
  },
  {
   "cell_type": "code",
   "execution_count": null,
   "metadata": {},
   "outputs": [],
   "source": []
  },
  {
   "cell_type": "code",
   "execution_count": 58,
   "metadata": {},
   "outputs": [
    {
     "name": "stdout",
     "output_type": "stream",
     "text": [
      "Shape:  (80006, 3) (80006,)\n"
     ]
    }
   ],
   "source": [
    "# Assign the data to X and y\n",
    "# Note: Sklearn requires a two-dimensional array of values\n",
    "# so we use reshape() to create this\n",
    "\n",
    "X = notes[['primary_description','domestic','ward']]\n",
    "y = notes['arrests']\n",
    "\n",
    "print(\"Shape: \", X.shape, y.shape)"
   ]
  },
  {
   "cell_type": "code",
   "execution_count": 59,
   "metadata": {},
   "outputs": [
    {
     "name": "stdout",
     "output_type": "stream",
     "text": [
      "       primary_description  domestic  ward\n",
      "0                        0         1     5\n",
      "1                        1         1    20\n",
      "2                        2         0    48\n",
      "3                        1         1    21\n",
      "4                        3         0    27\n",
      "...                    ...       ...   ...\n",
      "80001                    1         1    42\n",
      "80002                    5         0     3\n",
      "80003                    1         1     5\n",
      "80004                    1         1     7\n",
      "80005                    6         0    14\n",
      "\n",
      "[80006 rows x 3 columns]\n"
     ]
    }
   ],
   "source": [
    "print(X)"
   ]
  },
  {
   "cell_type": "code",
   "execution_count": 60,
   "metadata": {},
   "outputs": [],
   "source": [
    "from sklearn.model_selection import train_test_split\n",
    "\n",
    "X_train, X_test, y_train, y_test = train_test_split(X, y, random_state=1)"
   ]
  },
  {
   "cell_type": "code",
   "execution_count": 61,
   "metadata": {},
   "outputs": [
    {
     "data": {
      "text/plain": [
       "LogisticRegression()"
      ]
     },
     "execution_count": 61,
     "metadata": {},
     "output_type": "execute_result"
    }
   ],
   "source": [
    "from sklearn.linear_model import LogisticRegression\n",
    "classifier = LogisticRegression()\n",
    "classifier"
   ]
  },
  {
   "cell_type": "markdown",
   "metadata": {},
   "source": []
  },
  {
   "cell_type": "code",
   "execution_count": 62,
   "metadata": {},
   "outputs": [
    {
     "data": {
      "text/plain": [
       "LogisticRegression()"
      ]
     },
     "execution_count": 62,
     "metadata": {},
     "output_type": "execute_result"
    }
   ],
   "source": [
    "classifier.fit(X_train, y_train)"
   ]
  },
  {
   "cell_type": "code",
   "execution_count": 63,
   "metadata": {},
   "outputs": [
    {
     "name": "stdout",
     "output_type": "stream",
     "text": [
      "Training Data Score: 0.876424905006333\n",
      "Testing Data Score: 0.8757124287571243\n"
     ]
    }
   ],
   "source": [
    "print(f\"Training Data Score: {classifier.score(X_train, y_train)}\")\n",
    "print(f\"Testing Data Score: {classifier.score(X_test, y_test)}\")"
   ]
  },
  {
   "cell_type": "markdown",
   "metadata": {},
   "source": [
    "Make redictions"
   ]
  },
  {
   "cell_type": "code",
   "execution_count": 64,
   "metadata": {},
   "outputs": [
    {
     "name": "stdout",
     "output_type": "stream",
     "text": [
      "Actual:\t\t['N', 'Y', 'N', 'N', 'N', 'N', 'N', 'N', 'N', 'N']\n",
      "Predicted:\t['N', 'N', 'N', 'N', 'N', 'N', 'N', 'N', 'N', 'N']\n"
     ]
    }
   ],
   "source": [
    "print(f'Actual:\\t\\t{list(y_test[:10])}')\n",
    "print(f'Predicted:\\t{list(classifier.predict(X_test[:10]))}')"
   ]
  },
  {
   "cell_type": "code",
   "execution_count": 67,
   "metadata": {},
   "outputs": [
    {
     "data": {
      "text/html": [
       "<div>\n",
       "<style scoped>\n",
       "    .dataframe tbody tr th:only-of-type {\n",
       "        vertical-align: middle;\n",
       "    }\n",
       "\n",
       "    .dataframe tbody tr th {\n",
       "        vertical-align: top;\n",
       "    }\n",
       "\n",
       "    .dataframe thead th {\n",
       "        text-align: right;\n",
       "    }\n",
       "</style>\n",
       "<table border=\"1\" class=\"dataframe\">\n",
       "  <thead>\n",
       "    <tr style=\"text-align: right;\">\n",
       "      <th></th>\n",
       "      <th>primary_description</th>\n",
       "      <th>arrests</th>\n",
       "      <th>domestic</th>\n",
       "      <th>ward</th>\n",
       "    </tr>\n",
       "  </thead>\n",
       "  <tbody>\n",
       "    <tr>\n",
       "      <th>0</th>\n",
       "      <td>0</td>\n",
       "      <td>N</td>\n",
       "      <td>1</td>\n",
       "      <td>5</td>\n",
       "    </tr>\n",
       "    <tr>\n",
       "      <th>1</th>\n",
       "      <td>1</td>\n",
       "      <td>N</td>\n",
       "      <td>1</td>\n",
       "      <td>20</td>\n",
       "    </tr>\n",
       "    <tr>\n",
       "      <th>2</th>\n",
       "      <td>2</td>\n",
       "      <td>N</td>\n",
       "      <td>0</td>\n",
       "      <td>48</td>\n",
       "    </tr>\n",
       "    <tr>\n",
       "      <th>3</th>\n",
       "      <td>1</td>\n",
       "      <td>N</td>\n",
       "      <td>1</td>\n",
       "      <td>21</td>\n",
       "    </tr>\n",
       "    <tr>\n",
       "      <th>4</th>\n",
       "      <td>3</td>\n",
       "      <td>N</td>\n",
       "      <td>0</td>\n",
       "      <td>27</td>\n",
       "    </tr>\n",
       "  </tbody>\n",
       "</table>\n",
       "</div>"
      ],
      "text/plain": [
       "   primary_description arrests  domestic  ward\n",
       "0                    0       N         1     5\n",
       "1                    1       N         1    20\n",
       "2                    2       N         0    48\n",
       "3                    1       N         1    21\n",
       "4                    3       N         0    27"
      ]
     },
     "execution_count": 67,
     "metadata": {},
     "output_type": "execute_result"
    }
   ],
   "source": [
    "crime_cluster = notes.drop(axis=0,columns=['case_no','date_of_occurrence'])\n",
    "crime_cluster.head()"
   ]
  },
  {
   "cell_type": "code",
   "execution_count": 71,
   "metadata": {},
   "outputs": [
    {
     "data": {
      "text/plain": [
       "primary_description    80006\n",
       "arrests                80006\n",
       "domestic               80006\n",
       "ward                   80006\n",
       "dtype: int64"
      ]
     },
     "execution_count": 71,
     "metadata": {},
     "output_type": "execute_result"
    }
   ],
   "source": [
    "count_of_columns = crime_cluster.count()\n",
    "count_of_columns"
   ]
  },
  {
   "cell_type": "code",
   "execution_count": 72,
   "metadata": {},
   "outputs": [
    {
     "data": {
      "text/plain": [
       "80006"
      ]
     },
     "execution_count": 72,
     "metadata": {},
     "output_type": "execute_result"
    }
   ],
   "source": [
    "count_of_columns = crime_cluster['ward'].count()\n",
    "count_of_columns"
   ]
  },
  {
   "cell_type": "code",
   "execution_count": 76,
   "metadata": {},
   "outputs": [],
   "source": [
    "# Initialize a total arrest counter.\n",
    "total_arrests = 0\n",
    "\n",
    "# Ward options and ward total arrest\n",
    "ward_options = []\n",
    "# 1. Declare the empty dictionary.\n",
    "ward_arrests = {}"
   ]
  },
  {
   "cell_type": "code",
   "execution_count": 80,
   "metadata": {},
   "outputs": [
    {
     "name": "stdout",
     "output_type": "stream",
     "text": [
      "{'5': 1, '20': 1, '48': 1, '21': 1, '27': 1, '44': 1, '2': 1, '43': 1, '50': 1, '41': 1, '25': 1, '30': 1, '10': 1, '24': 1, '7': 1, '17': 1, '36': 1, '3': 1, '34': 1, '42': 1, '8': 1, '35': 1, '31': 1, '9': 1, '37': 1, '13': 1, '38': 1, '19': 1, '23': 1, '46': 1, '4': 1, '28': 1, '6': 1, '45': 1, '15': 1, '40': 1, '11': 1, '14': 1, '29': 1, '47': 1, '39': 1, '26': 1, '18': 1, '49': 1, '16': 1, '22': 1, '12': 1, '1': 1, '32': 1, '33': 1}\n"
     ]
    }
   ],
   "source": [
    "# Open the election results and read the file.\n",
    "with open(\"crime_data_csv.csv\") as arrest_data:\n",
    "    file_reader = csv.reader(arrest_data)\n",
    "\n",
    "    # Read the header row.\n",
    "    headers = next(file_reader)\n",
    "\n",
    "    # Print each row in the CSV file.\n",
    "    for row in file_reader:\n",
    "        # Add to the total arrest count.\n",
    "        total_arrests += 1\n",
    "\n",
    "        # Print the candidate name from each row.\n",
    "        ward_number = row[5]\n",
    "\n",
    "        if ward_number not in ward_options:\n",
    "          # Add the candidate name to the candidate list.\n",
    "            ward_options.append(ward_number)\n",
    "\n",
    "           # 2. Begin tracking that candidate's vote count.\n",
    "            total_arrests[ward_number] = 0\n",
    "            # Add a vote to that candidate's count.\n",
    "            total_arrests[ward_number] += 1\n",
    "\n",
    "# Print the candidate vote dictionary.\n",
    "print(ward_arrests)"
   ]
  },
  {
   "cell_type": "code",
   "execution_count": null,
   "metadata": {},
   "outputs": [],
   "source": []
  }
 ],
 "metadata": {
  "kernelspec": {
   "display_name": "Python 3",
   "language": "python",
   "name": "python3"
  },
  "language_info": {
   "codemirror_mode": {
    "name": "ipython",
    "version": 3
   },
   "file_extension": ".py",
   "mimetype": "text/x-python",
   "name": "python",
   "nbconvert_exporter": "python",
   "pygments_lexer": "ipython3",
   "version": "3.7.10"
  }
 },
 "nbformat": 4,
 "nbformat_minor": 4
}
